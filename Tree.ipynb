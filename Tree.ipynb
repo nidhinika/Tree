{
  "nbformat": 4,
  "nbformat_minor": 0,
  "metadata": {
    "colab": {
      "name": "Tree.ipynb",
      "provenance": []
    },
    "kernelspec": {
      "name": "python3",
      "display_name": "Python 3"
    }
  },
  "cells": [
    {
      "cell_type": "code",
      "metadata": {
        "id": "LBL_zvpTQn8y",
        "colab_type": "code",
        "colab": {}
      },
      "source": [
        "class TreeNode :\n",
        "  def __init__(self,data):\n",
        "    self.data=data\n",
        "    self.parent=None\n",
        "    self.children=[]\n",
        "  def add_child(self,child):\n",
        "    child.parent=self\n",
        "    self.children.append(child)\n",
        "  def get_level(self):\n",
        "    level=0\n",
        "    p=self.parent\n",
        "    while p:\n",
        "      p=p.parent\n",
        "      level+=1\n",
        "    return level\n",
        "  def print_tree(self):\n",
        "   spaces=\" \" * self.get_level()*3\n",
        "   prefix=spaces+\"|_\" if self.parent else \"  \"\n",
        "   print(prefix+self.data)\n",
        "   if self.children:\n",
        "      for child in self.children:\n",
        "          child.print_tree()\n",
        "       "
      ],
      "execution_count": 13,
      "outputs": []
    },
    {
      "cell_type": "code",
      "metadata": {
        "id": "O8MZPI9_euBf",
        "colab_type": "code",
        "colab": {
          "base_uri": "https://localhost:8080/",
          "height": 225
        },
        "outputId": "93f3db19-697e-45ac-b51e-e26cbc085241"
      },
      "source": [
        "def build_product_tree():\n",
        "    root = TreeNode(\"Electronics\")\n",
        "\n",
        "    laptop = TreeNode(\"Laptop\")\n",
        "    laptop.add_child(TreeNode(\"Mac\"))\n",
        "    laptop.add_child(TreeNode(\"Surface\"))\n",
        "    laptop.add_child(TreeNode(\"Thinkpad\"))\n",
        "\n",
        "    cellphone = TreeNode(\"Cell Phone\")\n",
        "    cellphone.add_child(TreeNode(\"iPhone\"))\n",
        "    cellphone.add_child(TreeNode(\"Google Pixel\"))\n",
        "    cellphone.add_child(TreeNode(\"Vivo\"))\n",
        "\n",
        "    tv = TreeNode(\"TV\")\n",
        "    tv.add_child(TreeNode(\"Samsung\"))\n",
        "    tv.add_child(TreeNode(\"LG\"))\n",
        "\n",
        "    root.add_child(laptop)\n",
        "    root.add_child(cellphone)\n",
        "    root.add_child(tv)\n",
        "\n",
        "    root.print_tree()\n",
        "\n",
        "if __name__ == '__main__':\n",
        "    build_product_tree()"
      ],
      "execution_count": 14,
      "outputs": [
        {
          "output_type": "stream",
          "text": [
            "  Electronics\n",
            "   |_Laptop\n",
            "      |_Mac\n",
            "      |_Surface\n",
            "      |_Thinkpad\n",
            "   |_Cell Phone\n",
            "      |_iPhone\n",
            "      |_Google Pixel\n",
            "      |_Vivo\n",
            "   |_TV\n",
            "      |_Samsung\n",
            "      |_LG\n"
          ],
          "name": "stdout"
        }
      ]
    },
    {
      "cell_type": "code",
      "metadata": {
        "id": "Fuj-O0aIkSus",
        "colab_type": "code",
        "colab": {}
      },
      "source": [
        ""
      ],
      "execution_count": null,
      "outputs": []
    }
  ]
}