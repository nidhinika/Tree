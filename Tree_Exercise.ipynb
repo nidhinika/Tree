{
  "nbformat": 4,
  "nbformat_minor": 0,
  "metadata": {
    "colab": {
      "name": "Tree_Exercise.ipynb",
      "provenance": []
    },
    "kernelspec": {
      "name": "python3",
      "display_name": "Python 3"
    }
  },
  "cells": [
    {
      "cell_type": "markdown",
      "metadata": {
        "id": "vNZoY4JY4-Dz",
        "colab_type": "text"
      },
      "source": [
        "Solution to theses exercise\n",
        "\n",
        "https://github.com/codebasics/py/blob/master/DataStructures/7_Tree/7_tree_exercise.md\n"
      ]
    },
    {
      "cell_type": "markdown",
      "metadata": {
        "id": "rvWuLf7U5lTt",
        "colab_type": "text"
      },
      "source": [
        "**Q1**"
      ]
    },
    {
      "cell_type": "code",
      "metadata": {
        "id": "yIE_yT3p5K6p",
        "colab_type": "code",
        "colab": {}
      },
      "source": [
        "class TreeNode :\n",
        "  def __init__(self,data):\n",
        "    self.data=data\n",
        "    self.parent=None\n",
        "    self.children=[]\n",
        "  def add_child(self,child):\n",
        "    child.parent=self\n",
        "    self.children.append(child)\n",
        "  def get_level(self):\n",
        "    level=0\n",
        "    p=self.parent\n",
        "    while p:\n",
        "      p=p.parent\n",
        "      level+=1\n",
        "    return level\n",
        "  def print_tree(self,key):\n",
        "   #a=self.data.split()\n",
        "   if key==\"name\":\n",
        "      spaces=\" \" * self.get_level()*3\n",
        "      prefix=spaces+\"|_\" if self.parent else \"  \"\n",
        "      print(prefix+self.data[\"name\"])\n",
        "      if self.children:\n",
        "         for child in self.children:\n",
        "             child.print_tree(key)\n",
        "   if key==\"designation\":\n",
        "     spaces=\" \" * self.get_level()*3\n",
        "     prefix=spaces+\"|_\" if self.parent else \"  \"\n",
        "     print(prefix+self.data[\"designation\"])\n",
        "     if self.children:\n",
        "        for child in self.children:\n",
        "             child.print_tree(key)\n",
        "   if key==\"both\":\n",
        "    spaces=\" \" * self.get_level()*3\n",
        "    prefix=spaces+\"|_\" if self.parent else \"  \"\n",
        "    print(prefix+self.data[\"name\"]+\"(\"+self.data[\"designation\"]+\")\")\n",
        "    if self.children:\n",
        "        for child in self.children:\n",
        "             child.print_tree(key)\n",
        "\n",
        "       "
      ],
      "execution_count": 2,
      "outputs": []
    },
    {
      "cell_type": "code",
      "metadata": {
        "id": "WnbwgxzL5WWO",
        "colab_type": "code",
        "colab": {
          "base_uri": "https://localhost:8080/",
          "height": 173
        },
        "outputId": "adc55571-8a84-48f5-9a4e-9702ac4daf75"
      },
      "source": [
        "def build_product_tree():\n",
        "    root = TreeNode({\"name\":\"Nilpul\",\"designation\":\"CEO\"})\n",
        "    CTO = TreeNode({'name':\"Chinmay\",\"designation\":\"CTO\"})\n",
        "    Ih=TreeNode({\"name\":\"Vishwa\",\"designation\":\"Infrastructure head\"})\n",
        "    cloud_manager=TreeNode({\"name\":\"Dhaval\",\"designation\":\"Cloud Manager\"})\n",
        "    app_manager=TreeNode({\"name\":\"Abhijeet\",\"designation\":\"App Manager\"})\n",
        "    application_head=TreeNode({\"name\":\"Aamir\",\"designation\":\"Application head\"})\n",
        "    HR_head=TreeNode({\"name\":\"Gels\",\"designation\":\"HR Head\"})\n",
        "    Recruitment_manager=TreeNode({\"name\":\"Peter\",\"designation\":\"Recruitment Manager\"})\n",
        "    Policy_manager=TreeNode({\"name\":\"Waqas\",\"designation\":\"Policy Manager\"})\n",
        "    root.add_child(CTO)\n",
        "    root.add_child(HR_head)\n",
        "    CTO.add_child(Ih)\n",
        "    CTO.add_child(application_head)\n",
        "    Ih.add_child(cloud_manager)\n",
        "    Ih.add_child(app_manager)\n",
        "    HR_head.add_child(Recruitment_manager)\n",
        "    HR_head.add_child(Policy_manager)\n",
        "   # root.print_tree(\"both\")\n",
        "    return root\n",
        "    \n",
        "\n",
        "if __name__ == '__main__':\n",
        "    root=build_product_tree()\n",
        "    root.print_tree(\"both\")\n",
        "\n",
        "    "
      ],
      "execution_count": 6,
      "outputs": [
        {
          "output_type": "stream",
          "text": [
            "  Nilpul(CEO)\n",
            "   |_Chinmay(CTO)\n",
            "      |_Vishwa(Infrastructure head)\n",
            "         |_Dhaval(Cloud Manager)\n",
            "         |_Abhijeet(App Manager)\n",
            "      |_Aamir(Application head)\n",
            "   |_Gels(HR Head)\n",
            "      |_Peter(Recruitment Manager)\n",
            "      |_Waqas(Policy Manager)\n"
          ],
          "name": "stdout"
        }
      ]
    },
    {
      "cell_type": "markdown",
      "metadata": {
        "id": "4Lgoqhvj5qaG",
        "colab_type": "text"
      },
      "source": [
        "**Q2**"
      ]
    },
    {
      "cell_type": "code",
      "metadata": {
        "id": "BtkUidv55r_K",
        "colab_type": "code",
        "colab": {}
      },
      "source": [
        "class TreeNode :\n",
        "  def __init__(self,data):\n",
        "    self.data=data\n",
        "    self.parent=None\n",
        "    self.children=[]\n",
        "  def add_child(self,child):\n",
        "    child.parent=self\n",
        "    self.children.append(child)\n",
        "  def get_level(self):\n",
        "    level=1\n",
        "    p=self.parent\n",
        "    while p:\n",
        "      p=p.parent\n",
        "      level+=1\n",
        "    return level\n",
        "  def print_tree(self,l):\n",
        "   spaces=\" \" * self.get_level()*3\n",
        "   prefix=spaces+\"|_\" if self.parent else \"  \"\n",
        "   print(prefix+self.data)\n",
        "   if self.children and self.get_level()<=l:\n",
        "      for child in self.children:\n",
        "          child.print_tree(l)\n",
        "       \n",
        "\n",
        "       "
      ],
      "execution_count": 7,
      "outputs": []
    },
    {
      "cell_type": "code",
      "metadata": {
        "id": "GgnAE7QuCHQM",
        "colab_type": "code",
        "colab": {
          "base_uri": "https://localhost:8080/",
          "height": 69
        },
        "outputId": "55693524-fbdd-4464-ec2c-ccc9bcd54d27"
      },
      "source": [
        "def build_product_tree():\n",
        "    country = TreeNode(\"Global\")\n",
        "\n",
        "    India = TreeNode(\"India\")\n",
        "    Gujrat= TreeNode(\"Gujrat\")\n",
        "    Gujrat.add_child(TreeNode(\"Ahemdabad\"))\n",
        "    Gujrat.add_child(TreeNode(\"Baroda\"))\n",
        "    karnatka=TreeNode(\"Karnatka\")\n",
        "    karnatka.add_child(TreeNode(\"Banglore\"))\n",
        "    karnatka.add_child(TreeNode(\"Mysore\"))\n",
        "    India.add_child(Gujrat)\n",
        "    India.add_child(karnatka)\n",
        "\n",
        "\n",
        "    USA = TreeNode(\"USA\")\n",
        "    NewJersy=TreeNode(\"NewJersy\")\n",
        "    NewJersy.add_child(TreeNode(\"Princeton\"))\n",
        "    NewJersy.add_child(TreeNode(\"Trenton\"))\n",
        "    USA.add_child(NewJersy)\n",
        "    California=TreeNode(\"California\")\n",
        "    California.add_child(TreeNode(\"San Fransco\"))\n",
        "    California.add_child(TreeNode(\"Mountain View\"))\n",
        "    California.add_child(TreeNode(\"Palo Alto\"))\n",
        "    USA.add_child(California)\n",
        "    country.add_child(India)\n",
        "    country.add_child(USA)\n",
        "    #country.print_tree(3)\n",
        "    return country\n",
        "\n",
        "    \n",
        "if __name__ == '__main__':\n",
        "    country=build_product_tree()\n",
        "    country.print_tree(1)"
      ],
      "execution_count": 8,
      "outputs": [
        {
          "output_type": "stream",
          "text": [
            "  Global\n",
            "      |_India\n",
            "      |_USA\n"
          ],
          "name": "stdout"
        }
      ]
    }
  ]
}